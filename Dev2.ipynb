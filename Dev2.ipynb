{
 "cells": [
  {
   "cell_type": "code",
   "execution_count": 8,
   "metadata": {},
   "outputs": [
    {
     "name": "stdout",
     "output_type": "stream",
     "text": [
      "The autoreload extension is already loaded. To reload it, use:\n",
      "  %reload_ext autoreload\n"
     ]
    }
   ],
   "source": [
    "%load_ext autoreload\n",
    "%autoreload 2\n",
    "%matplotlib inline\n",
    "import astro\n",
    "import logging\n",
    "import numpy as np\n",
    "logging.getLogger().setLevel(logging.INFO)"
   ]
  },
  {
   "cell_type": "code",
   "execution_count": 14,
   "metadata": {},
   "outputs": [
    {
     "name": "stderr",
     "output_type": "stream",
     "text": [
      "INFO:root:Logging training to: out/easy/qbot/035\n",
      "INFO:root:N: 0  VALID  t: 11 s\n",
      "INFO:root:N: 100  VALID  t: 32 s  TRAIN  #t: 61222  #s: 663  t: 8 s  survive: 0%\n",
      "INFO:root:N: 200  VALID  t: 7 s  TRAIN  #t: 55740  #s: 608  t: 7 s  survive: 0%\n",
      "INFO:root:N: 300  VALID  t: 7 s  TRAIN  #t: 68777  #s: 738  t: 8 s  survive: 2%\n",
      "INFO:root:N: 400  VALID  t: 7 s  TRAIN  #t: 60373  #s: 661  t: 9 s  survive: 0%\n",
      "INFO:root:N: 500  VALID  t: 7 s  TRAIN  #t: 55979  #s: 617  t: 7 s  survive: 0%\n",
      "INFO:root:N: 600  VALID  t: 7 s  TRAIN  #t: 46923  #s: 520  t: 7 s  survive: 0%\n",
      "INFO:root:N: 700  VALID  t: 7 s  TRAIN  #t: 54398  #s: 597  t: 7 s  survive: 1%\n",
      "INFO:root:N: 800  VALID  t: 14 s  TRAIN  #t: 59551  #s: 647  t: 8 s  survive: 0%\n",
      "INFO:root:N: 900  VALID  t: 18 s  TRAIN  #t: 60414  #s: 658  t: 9 s  survive: 0%\n",
      "INFO:root:N: 1000  VALID  t: 7 s  TRAIN  #t: 40418  #s: 456  t: 7 s  survive: 0%\n",
      "INFO:root:N: 1100  VALID  t: 7 s  TRAIN  #t: 46983  #s: 521  t: 7 s  survive: 0%\n",
      "INFO:root:N: 1200  VALID  t: 6 s  TRAIN  #t: 58570  #s: 639  t: 8 s  survive: 0%\n",
      "INFO:root:N: 1300  VALID  t: 7 s  TRAIN  #t: 47166  #s: 520  t: 6 s  survive: 0%\n",
      "INFO:root:N: 1400  VALID  t: 7 s  TRAIN  #t: 54275  #s: 596  t: 7 s  survive: 0%\n",
      "INFO:root:N: 1500  VALID  t: 7 s  TRAIN  #t: 60745  #s: 658  t: 7 s  survive: 0%\n",
      "INFO:root:N: 1600  VALID  t: 6 s  TRAIN  #t: 53357  #s: 584  t: 8 s  survive: 0%\n",
      "INFO:root:N: 1700  VALID  t: 7 s  TRAIN  #t: 60067  #s: 653  t: 7 s  survive: 0%\n",
      "INFO:root:N: 1800  VALID  t: 15 s  TRAIN  #t: 53949  #s: 591  t: 7 s  survive: 0%\n",
      "INFO:root:N: 1900  VALID  t: 4 s  TRAIN  #t: 56756  #s: 619  t: 9 s  survive: 0%\n",
      "INFO:root:N: 2000  VALID  t: 4 s  TRAIN  #t: 66847  #s: 716  t: 11 s  survive: 1%\n",
      "INFO:root:N: 2100  VALID  t: 9 s  TRAIN  #t: 68441  #s: 739  t: 11 s  survive: 0%\n",
      "INFO:root:N: 2200  VALID  t: 60 s  TRAIN  #t: 57288  #s: 616  t: 9 s  survive: 0%\n",
      "INFO:root:N: 2300  VALID  t: 7 s  TRAIN  #t: 64316  #s: 693  t: 10 s  survive: 1%\n",
      "INFO:root:N: 2400  VALID  t: 7 s  TRAIN  #t: 61455  #s: 664  t: 9 s  survive: 0%\n",
      "INFO:root:N: 2500  VALID  t: 7 s  TRAIN  #t: 59495  #s: 651  t: 9 s  survive: 0%\n",
      "INFO:root:N: 2600  VALID  t: 7 s  TRAIN  #t: 58994  #s: 636  t: 9 s  survive: 0%\n",
      "INFO:root:N: 2700  VALID  t: 7 s  TRAIN  #t: 64361  #s: 694  t: 8 s  survive: 2%\n",
      "INFO:root:N: 2800  VALID  t: 7 s  TRAIN  #t: 61042  #s: 660  t: 7 s  survive: 1%\n",
      "INFO:root:N: 2900  VALID  t: 7 s  TRAIN  #t: 52117  #s: 575  t: 7 s  survive: 0%\n",
      "INFO:root:N: 3000  VALID  t: 7 s  TRAIN  #t: 52950  #s: 579  t: 7 s  survive: 0%\n",
      "INFO:root:N: 3100  VALID  t: 7 s  TRAIN  #t: 64448  #s: 696  t: 9 s  survive: 1%\n",
      "INFO:root:N: 3200  VALID  t: 7 s  TRAIN  #t: 54761  #s: 600  t: 8 s  survive: 0%\n",
      "INFO:root:N: 3300  VALID  t: 7 s  TRAIN  #t: 56102  #s: 611  t: 8 s  survive: 0%\n",
      "INFO:root:N: 3400  VALID  t: 7 s  TRAIN  #t: 60880  #s: 663  t: 9 s  survive: 0%\n",
      "INFO:root:N: 3500  VALID  t: 7 s  TRAIN  #t: 55791  #s: 610  t: 8 s  survive: 0%\n"
     ]
    },
    {
     "ename": "KeyboardInterrupt",
     "evalue": "",
     "output_type": "error",
     "traceback": [
      "\u001b[0;31m---------------------------------------------------------------------------\u001b[0m",
      "\u001b[0;31mKeyboardInterrupt\u001b[0m                         Traceback (most recent call last)",
      "\u001b[0;32m<ipython-input-14-eb44a0f963a3>\u001b[0m in \u001b[0;36m<module>\u001b[0;34m()\u001b[0m\n\u001b[0;32m----> 1\u001b[0;31m \u001b[0mastro\u001b[0m\u001b[0;34m.\u001b[0m\u001b[0mrl\u001b[0m\u001b[0;34m.\u001b[0m\u001b[0mtrain\u001b[0m\u001b[0;34m(\u001b[0m\u001b[0mastro\u001b[0m\u001b[0;34m.\u001b[0m\u001b[0mcore\u001b[0m\u001b[0;34m.\u001b[0m\u001b[0mSOLO_EASY_CONFIG\u001b[0m\u001b[0;34m,\u001b[0m \u001b[0minterval\u001b[0m\u001b[0;34m=\u001b[0m\u001b[0;36m100\u001b[0m\u001b[0;34m,\u001b[0m \u001b[0mlimit\u001b[0m\u001b[0;34m=\u001b[0m\u001b[0;36m10001\u001b[0m\u001b[0;34m,\u001b[0m \u001b[0mout\u001b[0m\u001b[0;34m=\u001b[0m\u001b[0;34m'out/easy/qbot'\u001b[0m\u001b[0;34m)\u001b[0m\u001b[0;34m\u001b[0m\u001b[0m\n\u001b[0m",
      "\u001b[0;32m/work/astro/rl.py\u001b[0m in \u001b[0;36mtrain\u001b[0;34m(config, interval, limit, out)\u001b[0m\n\u001b[1;32m    372\u001b[0m \u001b[0;34m\u001b[0m\u001b[0m\n\u001b[1;32m    373\u001b[0m         \u001b[0;31m# Train\u001b[0m\u001b[0;34m\u001b[0m\u001b[0;34m\u001b[0m\u001b[0m\n\u001b[0;32m--> 374\u001b[0;31m         \u001b[0mgames\u001b[0m\u001b[0;34m.\u001b[0m\u001b[0mappend\u001b[0m\u001b[0;34m(\u001b[0m\u001b[0mcore\u001b[0m\u001b[0;34m.\u001b[0m\u001b[0mplay\u001b[0m\u001b[0;34m(\u001b[0m\u001b[0mconfig\u001b[0m\u001b[0;34m,\u001b[0m \u001b[0mtrain_bots\u001b[0m\u001b[0;34m)\u001b[0m\u001b[0;34m)\u001b[0m\u001b[0;34m\u001b[0m\u001b[0m\n\u001b[0m\u001b[1;32m    375\u001b[0m         \u001b[0mtotal_ticks\u001b[0m \u001b[0;34m+=\u001b[0m \u001b[0mlen\u001b[0m\u001b[0;34m(\u001b[0m\u001b[0mgames\u001b[0m\u001b[0;34m[\u001b[0m\u001b[0;34m-\u001b[0m\u001b[0;36m1\u001b[0m\u001b[0;34m]\u001b[0m\u001b[0;34m.\u001b[0m\u001b[0mticks\u001b[0m\u001b[0;34m)\u001b[0m\u001b[0;34m\u001b[0m\u001b[0m\n\u001b[1;32m    376\u001b[0m         writer.add_scalar(\n",
      "\u001b[0;32m/work/astro/core.py\u001b[0m in \u001b[0;36mplay\u001b[0;34m(config, bots)\u001b[0m\n\u001b[1;32m    395\u001b[0m \u001b[0;34m\u001b[0m\u001b[0m\n\u001b[1;32m    396\u001b[0m         \u001b[0;31m# 3. Provide rewards\u001b[0m\u001b[0;34m\u001b[0m\u001b[0;34m\u001b[0m\u001b[0m\n\u001b[0;32m--> 397\u001b[0;31m         \u001b[0mBots\u001b[0m\u001b[0;34m.\u001b[0m\u001b[0mreward\u001b[0m\u001b[0;34m(\u001b[0m\u001b[0mbots\u001b[0m\u001b[0;34m,\u001b[0m \u001b[0mstate\u001b[0m\u001b[0;34m,\u001b[0m \u001b[0mreward\u001b[0m\u001b[0;34m)\u001b[0m\u001b[0;34m\u001b[0m\u001b[0m\n\u001b[0m\u001b[1;32m    398\u001b[0m \u001b[0;34m\u001b[0m\u001b[0m\n\u001b[1;32m    399\u001b[0m         \u001b[0;31m# 4. Save game ticks & handle end-of-game\u001b[0m\u001b[0;34m\u001b[0m\u001b[0;34m\u001b[0m\u001b[0m\n",
      "\u001b[0;32m/work/astro/core.py\u001b[0m in \u001b[0;36mreward\u001b[0;34m(bots, state, reward)\u001b[0m\n\u001b[1;32m    367\u001b[0m         \u001b[0;32mfor\u001b[0m \u001b[0mindex\u001b[0m\u001b[0;34m,\u001b[0m \u001b[0mbot\u001b[0m \u001b[0;32min\u001b[0m \u001b[0menumerate\u001b[0m\u001b[0;34m(\u001b[0m\u001b[0mbots\u001b[0m\u001b[0;34m)\u001b[0m\u001b[0;34m:\u001b[0m\u001b[0;34m\u001b[0m\u001b[0m\n\u001b[1;32m    368\u001b[0m             \u001b[0;32mif\u001b[0m \u001b[0mhasattr\u001b[0m\u001b[0;34m(\u001b[0m\u001b[0mbot\u001b[0m\u001b[0;34m,\u001b[0m \u001b[0;34m'reward'\u001b[0m\u001b[0;34m)\u001b[0m\u001b[0;34m:\u001b[0m\u001b[0;34m\u001b[0m\u001b[0m\n\u001b[0;32m--> 369\u001b[0;31m                 \u001b[0mbot\u001b[0m\u001b[0;34m.\u001b[0m\u001b[0mreward\u001b[0m\u001b[0;34m(\u001b[0m\u001b[0mroll_ships\u001b[0m\u001b[0;34m(\u001b[0m\u001b[0mstate\u001b[0m\u001b[0;34m,\u001b[0m \u001b[0mindex\u001b[0m\u001b[0;34m)\u001b[0m\u001b[0;34m,\u001b[0m \u001b[0mreward\u001b[0m\u001b[0;34m[\u001b[0m\u001b[0mindex\u001b[0m\u001b[0;34m]\u001b[0m\u001b[0;34m)\u001b[0m\u001b[0;34m\u001b[0m\u001b[0m\n\u001b[0m\u001b[1;32m    370\u001b[0m \u001b[0;34m\u001b[0m\u001b[0m\n\u001b[1;32m    371\u001b[0m     \u001b[0;34m@\u001b[0m\u001b[0mstaticmethod\u001b[0m\u001b[0;34m\u001b[0m\u001b[0m\n",
      "\u001b[0;32m/work/astro/rl.py\u001b[0m in \u001b[0;36mreward\u001b[0;34m(self, new_state, reward)\u001b[0m\n\u001b[1;32m    325\u001b[0m             \u001b[0;31m# Sample from the replay buffer & take step(s) to reduce loss\u001b[0m\u001b[0;34m\u001b[0m\u001b[0;34m\u001b[0m\u001b[0m\n\u001b[1;32m    326\u001b[0m             \u001b[0;32mfor\u001b[0m \u001b[0m_\u001b[0m \u001b[0;32min\u001b[0m \u001b[0mrange\u001b[0m\u001b[0;34m(\u001b[0m\u001b[0mself\u001b[0m\u001b[0;34m.\u001b[0m\u001b[0mn_ministeps\u001b[0m\u001b[0;34m)\u001b[0m\u001b[0;34m:\u001b[0m\u001b[0;34m\u001b[0m\u001b[0m\n\u001b[0;32m--> 327\u001b[0;31m                 \u001b[0mself\u001b[0m\u001b[0;34m.\u001b[0m\u001b[0m_step\u001b[0m\u001b[0;34m(\u001b[0m\u001b[0;34m)\u001b[0m\u001b[0;34m\u001b[0m\u001b[0m\n\u001b[0m\u001b[1;32m    328\u001b[0m             \u001b[0mself\u001b[0m\u001b[0;34m.\u001b[0m\u001b[0m_nstep_buffer\u001b[0m\u001b[0;34m.\u001b[0m\u001b[0mclear\u001b[0m\u001b[0;34m(\u001b[0m\u001b[0;34m)\u001b[0m\u001b[0;34m\u001b[0m\u001b[0m\n\u001b[1;32m    329\u001b[0m \u001b[0;34m\u001b[0m\u001b[0m\n",
      "\u001b[0;32m/work/astro/rl.py\u001b[0m in \u001b[0;36m_step\u001b[0;34m(self)\u001b[0m\n\u001b[1;32m    267\u001b[0m             \u001b[0mxps\u001b[0m \u001b[0;34m+=\u001b[0m \u001b[0mscored\u001b[0m\u001b[0;34m\u001b[0m\u001b[0m\n\u001b[1;32m    268\u001b[0m         \u001b[0;32melse\u001b[0m\u001b[0;34m:\u001b[0m\u001b[0;34m\u001b[0m\u001b[0m\n\u001b[0;32m--> 269\u001b[0;31m             \u001b[0mweights\u001b[0m \u001b[0;34m=\u001b[0m \u001b[0mnp\u001b[0m\u001b[0;34m.\u001b[0m\u001b[0marray\u001b[0m\u001b[0;34m(\u001b[0m\u001b[0;34m[\u001b[0m\u001b[0md\u001b[0m\u001b[0;34m.\u001b[0m\u001b[0mloss\u001b[0m \u001b[0;32mfor\u001b[0m \u001b[0md\u001b[0m \u001b[0;32min\u001b[0m \u001b[0mscored\u001b[0m\u001b[0;34m]\u001b[0m\u001b[0;34m,\u001b[0m \u001b[0mdtype\u001b[0m\u001b[0;34m=\u001b[0m\u001b[0mnp\u001b[0m\u001b[0;34m.\u001b[0m\u001b[0mfloat32\u001b[0m\u001b[0;34m)\u001b[0m\u001b[0;34m\u001b[0m\u001b[0m\n\u001b[0m\u001b[1;32m    270\u001b[0m             \u001b[0mweights\u001b[0m \u001b[0;34m/=\u001b[0m \u001b[0mweights\u001b[0m\u001b[0;34m.\u001b[0m\u001b[0msum\u001b[0m\u001b[0;34m(\u001b[0m\u001b[0;34m)\u001b[0m\u001b[0;34m\u001b[0m\u001b[0m\n\u001b[1;32m    271\u001b[0m             xps += [scored[i]\n",
      "\u001b[0;31mKeyboardInterrupt\u001b[0m: "
     ]
    }
   ],
   "source": [
    "astro.rl.train(astro.core.SOLO_EASY_CONFIG, interval=100, limit=10001, out='out/easy/qbot')"
   ]
  },
  {
   "cell_type": "code",
   "execution_count": null,
   "metadata": {},
   "outputs": [],
   "source": []
  }
 ],
 "metadata": {
  "kernelspec": {
   "display_name": "Python 3",
   "language": "python",
   "name": "python3"
  },
  "language_info": {
   "codemirror_mode": {
    "name": "ipython",
    "version": 3
   },
   "file_extension": ".py",
   "mimetype": "text/x-python",
   "name": "python",
   "nbconvert_exporter": "python",
   "pygments_lexer": "ipython3",
   "version": "3.6.2"
  }
 },
 "nbformat": 4,
 "nbformat_minor": 2
}
