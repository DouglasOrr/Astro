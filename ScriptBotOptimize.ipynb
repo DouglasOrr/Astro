{
 "cells": [
  {
   "cell_type": "code",
   "execution_count": 2,
   "metadata": {},
   "outputs": [
    {
     "name": "stdout",
     "output_type": "stream",
     "text": [
      "The autoreload extension is already loaded. To reload it, use:\n",
      "  %reload_ext autoreload\n"
     ]
    }
   ],
   "source": [
    "%load_ext autoreload\n",
    "%autoreload 2\n",
    "%matplotlib inline\n",
    "import collections\n",
    "import itertools as it\n",
    "import numpy as np\n",
    "import astro"
   ]
  },
  {
   "cell_type": "code",
   "execution_count": 5,
   "metadata": {},
   "outputs": [
    {
     "name": "stderr",
     "output_type": "stream",
     "text": [
      "Initial {'avoid_distance': 0.1, 'avoid_threshold': 0.45}\n",
      "Trial {'avoid_distance': 0.12483570765056164, 'avoid_threshold': 0.44308678494144077} -> None\n",
      "Trial {'avoid_distance': 0.13238442690503463, 'avoid_threshold': 0.5261514928204013} -> None\n",
      "Trial {'avoid_distance': 0.08829233126383321, 'avoid_threshold': 0.438293152152541} -> None\n",
      "Trial {'avoid_distance': 0.17896064077536958, 'avoid_threshold': 0.4883717364576454} -> None\n",
      "Trial {'avoid_distance': 0.0765262807032524, 'avoid_threshold': 0.47712800217929824} -> None\n",
      "Trial {'avoid_distance': 0.07682911535937689, 'avoid_threshold': 0.4267135123214872} -> None\n",
      "Trial {'avoid_distance': 0.11209811357830171, 'avoid_threshold': 0.3543359877671101} -> None\n",
      "Trial {'avoid_distance': 0.013754108374348359, 'avoid_threshold': 0.4218856235379514} -> None\n",
      "Trial {'avoid_distance': 0.049358443983278814, 'avoid_threshold': 0.46571236662976373} -> 1\n",
      "Trial {'avoid_distance': 0.003957240207218264, 'avoid_threshold': 0.39509718156299917} -> None\n"
     ]
    },
    {
     "name": "stdout",
     "output_type": "stream",
     "text": [
      "Better: 100.0%    {'loss': 415, 'win': 525, 'draw': 60}\n"
     ]
    }
   ],
   "source": [
    "new_args = astro.ScriptBot.optimize(\n",
    "    astro.DEFAULT_CONFIG, max_trials=10, threshold=0.99, max_mutations=10, scale=0.05)\n",
    "counts = collections.Counter([\n",
    "    {0: 'loss', 1: 'win', None: 'draw'}[x]\n",
    "    for x in it.islice((astro.play(astro.ScriptBot(astro.ScriptBot.DEFAULT_ARGS, config),\n",
    "                                   astro.ScriptBot(new_args, config),\n",
    "                                   config)[0]\n",
    "                        for config in astro.generate_configs(astro.DEFAULT_CONFIG)),\n",
    "                       1000)])\n",
    "print('Better: {:.1%}    {}'.format(astro.p_better(nwins=counts['win'], nlosses=counts['loss']), dict(counts)))"
   ]
  }
 ],
 "metadata": {
  "kernelspec": {
   "display_name": "Python 3",
   "language": "python",
   "name": "python3"
  },
  "language_info": {
   "codemirror_mode": {
    "name": "ipython",
    "version": 3
   },
   "file_extension": ".py",
   "mimetype": "text/x-python",
   "name": "python",
   "nbconvert_exporter": "python",
   "pygments_lexer": "ipython3",
   "version": "3.6.2"
  }
 },
 "nbformat": 4,
 "nbformat_minor": 2
}
