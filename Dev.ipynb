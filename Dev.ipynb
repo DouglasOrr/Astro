{
 "cells": [
  {
   "cell_type": "code",
   "execution_count": 66,
   "metadata": {},
   "outputs": [
    {
     "name": "stdout",
     "output_type": "stream",
     "text": [
      "The autoreload extension is already loaded. To reload it, use:\n",
      "  %reload_ext autoreload\n"
     ]
    }
   ],
   "source": [
    "%load_ext autoreload\n",
    "%autoreload 2\n",
    "%matplotlib inline\n",
    "import astro\n",
    "import astro.test\n",
    "\n",
    "import numpy as np\n",
    "import torch as T\n",
    "import itertools as it\n",
    "import functools as ft\n",
    "import matplotlib.pyplot as plt\n",
    "import seaborn as sns\n",
    "import pandas as pd\n",
    "import cProfile\n",
    "import logging\n",
    "logging.getLogger().setLevel(logging.INFO)"
   ]
  },
  {
   "cell_type": "code",
   "execution_count": 72,
   "metadata": {
    "scrolled": false
   },
   "outputs": [],
   "source": [
    "#astro.rl.train(astro.core.SOLO_EASY_CONFIG, interval=10, limit=101, out='out/tmp')"
   ]
  },
  {
   "cell_type": "code",
   "execution_count": 28,
   "metadata": {},
   "outputs": [
    {
     "name": "stdout",
     "output_type": "stream",
     "text": [
      "0 100 -- 0.438 -- 0.871 0.004 (0%, 100%)\n",
      "10 1100 -- 0.287 -- 0.425 0.150 (12%, 88%)\n",
      "20 2100 -- 0.285 -- 0.307 0.263 (64%, 37%)\n",
      "30 3100 -- 0.223 -- 0.189 0.258 (89%, 31%)\n",
      "40 4100 -- 0.134 -- 0.092 0.176 (96%, 74%)\n",
      "50 5100 -- 0.100 -- 0.058 0.143 (98%, 81%)\n",
      "60 6100 -- 0.066 -- 0.044 0.088 (100%, 87%)\n",
      "70 7100 -- 0.037 -- 0.022 0.053 (100%, 93%)\n",
      "80 8100 -- 0.030 -- 0.010 0.049 (100%, 94%)\n",
      "90 9100 -- 0.041 -- 0.040 0.042 (94%, 95%)\n"
     ]
    }
   ],
   "source": [
    "# with astro.util.profiling('test.cprof'):\n",
    "astro.test.test_rl.test_convergence()"
   ]
  },
  {
   "cell_type": "code",
   "execution_count": 89,
   "metadata": {},
   "outputs": [
    {
     "name": "stderr",
     "output_type": "stream",
     "text": [
      "INFO:root:Logging training to: out/easy/qbot2/013\n",
      "INFO:root:N: 0  VALID  t: 5 s\n",
      "INFO:root:N: 10  VALID  t: 7 s  TRAIN  #t: 4903  #s: 495  t: 7 s  survive: 0%\n",
      "INFO:root:N: 20  VALID  t: 7 s  TRAIN  #t: 5151  #s: 520  t: 8 s  survive: 0%\n",
      "INFO:root:N: 30  VALID  t: 7 s  TRAIN  #t: 6649  #s: 669  t: 11 s  survive: 0%\n",
      "INFO:root:N: 40  VALID  t: 7 s  TRAIN  #t: 6872  #s: 692  t: 8 s  survive: 0%\n",
      "INFO:root:N: 50  VALID  t: 7 s  TRAIN  #t: 3427  #s: 347  t: 6 s  survive: 0%\n",
      "INFO:root:N: 60  VALID  t: 7 s  TRAIN  #t: 5687  #s: 573  t: 7 s  survive: 0%\n",
      "INFO:root:N: 70  VALID  t: 7 s  TRAIN  #t: 4781  #s: 482  t: 7 s  survive: 0%\n",
      "INFO:root:N: 80  VALID  t: 7 s  TRAIN  #t: 6419  #s: 647  t: 8 s  survive: 0%\n",
      "INFO:root:N: 90  VALID  t: 7 s  TRAIN  #t: 6607  #s: 666  t: 7 s  survive: 0%\n",
      "INFO:root:N: 100  VALID  t: 7 s  TRAIN  #t: 4583  #s: 462  t: 7 s  survive: 0%\n",
      "INFO:root:N: 110  VALID  t: 7 s  TRAIN  #t: 6007  #s: 605  t: 7 s  survive: 0%\n",
      "INFO:root:N: 120  VALID  t: 7 s  TRAIN  #t: 8148  #s: 819  t: 7 s  survive: 10%\n",
      "INFO:root:N: 130  VALID  t: 7 s  TRAIN  #t: 7324  #s: 737  t: 14 s  survive: 0%\n",
      "INFO:root:N: 140  VALID  t: 4 s  TRAIN  #t: 3801  #s: 384  t: 7 s  survive: 0%\n",
      "INFO:root:N: 150  VALID  t: 22 s  TRAIN  #t: 9309  #s: 936  t: 14 s  survive: 0%\n",
      "INFO:root:N: 160  VALID  t: 5 s  TRAIN  #t: 3185  #s: 322  t: 5 s  survive: 0%\n",
      "INFO:root:N: 170  VALID  t: 7 s  TRAIN  #t: 5588  #s: 562  t: 10 s  survive: 0%\n",
      "INFO:root:N: 180  VALID  t: 15 s  TRAIN  #t: 7567  #s: 761  t: 15 s  survive: 0%\n",
      "INFO:root:N: 190  VALID  t: 45 s  TRAIN  #t: 5629  #s: 566  t: 11 s  survive: 0%\n",
      "INFO:root:N: 200  VALID  t: 14 s  TRAIN  #t: 5934  #s: 598  t: 8 s  survive: 0%\n",
      "INFO:root:N: 210  VALID  t: 7 s  TRAIN  #t: 5186  #s: 522  t: 10 s  survive: 0%\n",
      "INFO:root:N: 220  VALID  t: 22 s  TRAIN  #t: 5054  #s: 510  t: 7 s  survive: 0%\n"
     ]
    },
    {
     "ename": "KeyboardInterrupt",
     "evalue": "",
     "output_type": "error",
     "traceback": [
      "\u001b[0;31m---------------------------------------------------------------------------\u001b[0m",
      "\u001b[0;31mKeyboardInterrupt\u001b[0m                         Traceback (most recent call last)",
      "\u001b[0;32m<ipython-input-89-1e44e227f181>\u001b[0m in \u001b[0;36m<module>\u001b[0;34m()\u001b[0m\n\u001b[1;32m      2\u001b[0m \u001b[0;31m#astro.rl.train(astro.core.DEFAULT_CONFIG, interval=100, limit=10001, log_prefix='out/duel/qbot')\u001b[0m\u001b[0;34m\u001b[0m\u001b[0;34m\u001b[0m\u001b[0m\n\u001b[1;32m      3\u001b[0m \u001b[0;31m#astro.rl.train(astro.core.SOLO_CONFIG, interval=10, limit=1001, log_prefix='out/solo/qbot')\u001b[0m\u001b[0;34m\u001b[0m\u001b[0;34m\u001b[0m\u001b[0m\n\u001b[0;32m----> 4\u001b[0;31m \u001b[0mastro\u001b[0m\u001b[0;34m.\u001b[0m\u001b[0mrl\u001b[0m\u001b[0;34m.\u001b[0m\u001b[0mtrain\u001b[0m\u001b[0;34m(\u001b[0m\u001b[0mastro\u001b[0m\u001b[0;34m.\u001b[0m\u001b[0mcore\u001b[0m\u001b[0;34m.\u001b[0m\u001b[0mSOLO_EASY_CONFIG\u001b[0m\u001b[0;34m,\u001b[0m \u001b[0minterval\u001b[0m\u001b[0;34m=\u001b[0m\u001b[0;36m10\u001b[0m\u001b[0;34m,\u001b[0m \u001b[0mlimit\u001b[0m\u001b[0;34m=\u001b[0m\u001b[0;36m1001\u001b[0m\u001b[0;34m,\u001b[0m \u001b[0mout\u001b[0m\u001b[0;34m=\u001b[0m\u001b[0;34m'out/easy/qbot2'\u001b[0m\u001b[0;34m)\u001b[0m\u001b[0;34m\u001b[0m\u001b[0m\n\u001b[0m",
      "\u001b[0;32m/work/astro/rl.py\u001b[0m in \u001b[0;36mtrain\u001b[0;34m(config, interval, limit, out)\u001b[0m\n\u001b[1;32m    377\u001b[0m \u001b[0;34m\u001b[0m\u001b[0m\n\u001b[1;32m    378\u001b[0m         \u001b[0;31m# Train\u001b[0m\u001b[0;34m\u001b[0m\u001b[0;34m\u001b[0m\u001b[0m\n\u001b[0;32m--> 379\u001b[0;31m         \u001b[0mgames\u001b[0m\u001b[0;34m.\u001b[0m\u001b[0mappend\u001b[0m\u001b[0;34m(\u001b[0m\u001b[0mcore\u001b[0m\u001b[0;34m.\u001b[0m\u001b[0mplay\u001b[0m\u001b[0;34m(\u001b[0m\u001b[0mconfig\u001b[0m\u001b[0;34m,\u001b[0m \u001b[0mtrain_bots\u001b[0m\u001b[0;34m)\u001b[0m\u001b[0;34m)\u001b[0m\u001b[0;34m\u001b[0m\u001b[0m\n\u001b[0m\u001b[1;32m    380\u001b[0m         \u001b[0mtotal_ticks\u001b[0m \u001b[0;34m+=\u001b[0m \u001b[0mlen\u001b[0m\u001b[0;34m(\u001b[0m\u001b[0mgames\u001b[0m\u001b[0;34m[\u001b[0m\u001b[0;34m-\u001b[0m\u001b[0;36m1\u001b[0m\u001b[0;34m]\u001b[0m\u001b[0;34m.\u001b[0m\u001b[0mticks\u001b[0m\u001b[0;34m)\u001b[0m\u001b[0;34m\u001b[0m\u001b[0m\n\u001b[1;32m    381\u001b[0m         writer.add_scalar(\n",
      "\u001b[0;32m/work/astro/core.py\u001b[0m in \u001b[0;36mplay\u001b[0;34m(config, bots)\u001b[0m\n\u001b[1;32m    397\u001b[0m \u001b[0;34m\u001b[0m\u001b[0m\n\u001b[1;32m    398\u001b[0m         \u001b[0;31m# 3. Provide rewards\u001b[0m\u001b[0;34m\u001b[0m\u001b[0;34m\u001b[0m\u001b[0m\n\u001b[0;32m--> 399\u001b[0;31m         \u001b[0mBots\u001b[0m\u001b[0;34m.\u001b[0m\u001b[0mreward\u001b[0m\u001b[0;34m(\u001b[0m\u001b[0mbots\u001b[0m\u001b[0;34m,\u001b[0m \u001b[0mstate\u001b[0m\u001b[0;34m,\u001b[0m \u001b[0mreward\u001b[0m\u001b[0;34m)\u001b[0m\u001b[0;34m\u001b[0m\u001b[0m\n\u001b[0m\u001b[1;32m    400\u001b[0m \u001b[0;34m\u001b[0m\u001b[0m\n\u001b[1;32m    401\u001b[0m         \u001b[0;31m# 4. Save game ticks & handle end-of-game\u001b[0m\u001b[0;34m\u001b[0m\u001b[0;34m\u001b[0m\u001b[0m\n",
      "\u001b[0;32m/work/astro/core.py\u001b[0m in \u001b[0;36mreward\u001b[0;34m(bots, state, reward)\u001b[0m\n\u001b[1;32m    369\u001b[0m         \u001b[0;32mfor\u001b[0m \u001b[0mindex\u001b[0m\u001b[0;34m,\u001b[0m \u001b[0mbot\u001b[0m \u001b[0;32min\u001b[0m \u001b[0menumerate\u001b[0m\u001b[0;34m(\u001b[0m\u001b[0mbots\u001b[0m\u001b[0;34m)\u001b[0m\u001b[0;34m:\u001b[0m\u001b[0;34m\u001b[0m\u001b[0m\n\u001b[1;32m    370\u001b[0m             \u001b[0;32mif\u001b[0m \u001b[0mhasattr\u001b[0m\u001b[0;34m(\u001b[0m\u001b[0mbot\u001b[0m\u001b[0;34m,\u001b[0m \u001b[0;34m'reward'\u001b[0m\u001b[0;34m)\u001b[0m\u001b[0;34m:\u001b[0m\u001b[0;34m\u001b[0m\u001b[0m\n\u001b[0;32m--> 371\u001b[0;31m                 \u001b[0mbot\u001b[0m\u001b[0;34m.\u001b[0m\u001b[0mreward\u001b[0m\u001b[0;34m(\u001b[0m\u001b[0mroll_ships\u001b[0m\u001b[0;34m(\u001b[0m\u001b[0mstate\u001b[0m\u001b[0;34m,\u001b[0m \u001b[0mindex\u001b[0m\u001b[0;34m)\u001b[0m\u001b[0;34m,\u001b[0m \u001b[0mreward\u001b[0m\u001b[0;34m[\u001b[0m\u001b[0mindex\u001b[0m\u001b[0;34m]\u001b[0m\u001b[0;34m)\u001b[0m\u001b[0;34m\u001b[0m\u001b[0m\n\u001b[0m\u001b[1;32m    372\u001b[0m \u001b[0;34m\u001b[0m\u001b[0m\n\u001b[1;32m    373\u001b[0m     \u001b[0;34m@\u001b[0m\u001b[0mstaticmethod\u001b[0m\u001b[0;34m\u001b[0m\u001b[0m\n",
      "\u001b[0;32m/work/astro/rl.py\u001b[0m in \u001b[0;36mreward\u001b[0;34m(self, new_state, reward)\u001b[0m\n\u001b[1;32m    330\u001b[0m             \u001b[0;31m# Sample from the replay buffer & take step(s) to reduce loss\u001b[0m\u001b[0;34m\u001b[0m\u001b[0;34m\u001b[0m\u001b[0m\n\u001b[1;32m    331\u001b[0m             \u001b[0;32mfor\u001b[0m \u001b[0m_\u001b[0m \u001b[0;32min\u001b[0m \u001b[0mrange\u001b[0m\u001b[0;34m(\u001b[0m\u001b[0mself\u001b[0m\u001b[0;34m.\u001b[0m\u001b[0mn_ministeps\u001b[0m\u001b[0;34m)\u001b[0m\u001b[0;34m:\u001b[0m\u001b[0;34m\u001b[0m\u001b[0m\n\u001b[0;32m--> 332\u001b[0;31m                 \u001b[0mself\u001b[0m\u001b[0;34m.\u001b[0m\u001b[0m_step\u001b[0m\u001b[0;34m(\u001b[0m\u001b[0;34m)\u001b[0m\u001b[0;34m\u001b[0m\u001b[0m\n\u001b[0m\u001b[1;32m    333\u001b[0m             \u001b[0mself\u001b[0m\u001b[0;34m.\u001b[0m\u001b[0m_nstep_buffer\u001b[0m\u001b[0;34m.\u001b[0m\u001b[0mclear\u001b[0m\u001b[0;34m(\u001b[0m\u001b[0;34m)\u001b[0m\u001b[0;34m\u001b[0m\u001b[0m\n\u001b[1;32m    334\u001b[0m \u001b[0;34m\u001b[0m\u001b[0m\n",
      "\u001b[0;32m/work/astro/rl.py\u001b[0m in \u001b[0;36m_step\u001b[0;34m(self)\u001b[0m\n\u001b[1;32m    262\u001b[0m         \"\"\"\n\u001b[1;32m    263\u001b[0m         xps, scored = util.partition(\n\u001b[0;32m--> 264\u001b[0;31m             self._replay_buffer, lambda d: np.isinf(d.loss))\n\u001b[0m\u001b[1;32m    265\u001b[0m         \u001b[0;32massert\u001b[0m \u001b[0mlen\u001b[0m\u001b[0;34m(\u001b[0m\u001b[0mxps\u001b[0m\u001b[0;34m)\u001b[0m \u001b[0;34m<\u001b[0m \u001b[0mself\u001b[0m\u001b[0;34m.\u001b[0m\u001b[0mn_samples\u001b[0m\u001b[0;34m\u001b[0m\u001b[0m\n\u001b[1;32m    266\u001b[0m         \u001b[0;32mif\u001b[0m \u001b[0mlen\u001b[0m\u001b[0;34m(\u001b[0m\u001b[0mxps\u001b[0m\u001b[0;34m)\u001b[0m \u001b[0;34m+\u001b[0m \u001b[0mlen\u001b[0m\u001b[0;34m(\u001b[0m\u001b[0mscored\u001b[0m\u001b[0;34m)\u001b[0m \u001b[0;34m<\u001b[0m \u001b[0mself\u001b[0m\u001b[0;34m.\u001b[0m\u001b[0mn_samples\u001b[0m\u001b[0;34m:\u001b[0m\u001b[0;34m\u001b[0m\u001b[0m\n",
      "\u001b[0;32m/work/astro/util.py\u001b[0m in \u001b[0;36mpartition\u001b[0;34m(xs, key)\u001b[0m\n\u001b[1;32m    163\u001b[0m     \u001b[0mmatches\u001b[0m\u001b[0;34m,\u001b[0m \u001b[0mnot_matches\u001b[0m \u001b[0;34m=\u001b[0m \u001b[0;34m[\u001b[0m\u001b[0;34m]\u001b[0m\u001b[0;34m,\u001b[0m \u001b[0;34m[\u001b[0m\u001b[0;34m]\u001b[0m\u001b[0;34m\u001b[0m\u001b[0m\n\u001b[1;32m    164\u001b[0m     \u001b[0;32mfor\u001b[0m \u001b[0mx\u001b[0m \u001b[0;32min\u001b[0m \u001b[0mxs\u001b[0m\u001b[0;34m:\u001b[0m\u001b[0;34m\u001b[0m\u001b[0m\n\u001b[0;32m--> 165\u001b[0;31m         \u001b[0;34m(\u001b[0m\u001b[0mmatches\u001b[0m \u001b[0;32mif\u001b[0m \u001b[0mkey\u001b[0m\u001b[0;34m(\u001b[0m\u001b[0mx\u001b[0m\u001b[0;34m)\u001b[0m \u001b[0;32melse\u001b[0m \u001b[0mnot_matches\u001b[0m\u001b[0;34m)\u001b[0m\u001b[0;34m.\u001b[0m\u001b[0mappend\u001b[0m\u001b[0;34m(\u001b[0m\u001b[0mx\u001b[0m\u001b[0;34m)\u001b[0m\u001b[0;34m\u001b[0m\u001b[0m\n\u001b[0m\u001b[1;32m    166\u001b[0m     \u001b[0;32mreturn\u001b[0m \u001b[0mmatches\u001b[0m\u001b[0;34m,\u001b[0m \u001b[0mnot_matches\u001b[0m\u001b[0;34m\u001b[0m\u001b[0m\n\u001b[1;32m    167\u001b[0m \u001b[0;34m\u001b[0m\u001b[0m\n",
      "\u001b[0;32m/work/astro/rl.py\u001b[0m in \u001b[0;36m<lambda>\u001b[0;34m(d)\u001b[0m\n\u001b[1;32m    262\u001b[0m         \"\"\"\n\u001b[1;32m    263\u001b[0m         xps, scored = util.partition(\n\u001b[0;32m--> 264\u001b[0;31m             self._replay_buffer, lambda d: np.isinf(d.loss))\n\u001b[0m\u001b[1;32m    265\u001b[0m         \u001b[0;32massert\u001b[0m \u001b[0mlen\u001b[0m\u001b[0;34m(\u001b[0m\u001b[0mxps\u001b[0m\u001b[0;34m)\u001b[0m \u001b[0;34m<\u001b[0m \u001b[0mself\u001b[0m\u001b[0;34m.\u001b[0m\u001b[0mn_samples\u001b[0m\u001b[0;34m\u001b[0m\u001b[0m\n\u001b[1;32m    266\u001b[0m         \u001b[0;32mif\u001b[0m \u001b[0mlen\u001b[0m\u001b[0;34m(\u001b[0m\u001b[0mxps\u001b[0m\u001b[0;34m)\u001b[0m \u001b[0;34m+\u001b[0m \u001b[0mlen\u001b[0m\u001b[0;34m(\u001b[0m\u001b[0mscored\u001b[0m\u001b[0;34m)\u001b[0m \u001b[0;34m<\u001b[0m \u001b[0mself\u001b[0m\u001b[0;34m.\u001b[0m\u001b[0mn_samples\u001b[0m\u001b[0;34m:\u001b[0m\u001b[0;34m\u001b[0m\u001b[0m\n",
      "\u001b[0;31mKeyboardInterrupt\u001b[0m: "
     ]
    }
   ],
   "source": [
    "#with astro.util.profiling('train.cprof'):\n",
    "#astro.rl.train(astro.core.DEFAULT_CONFIG, interval=100, limit=10001, log_prefix='out/duel/qbot')\n",
    "#astro.rl.train(astro.core.SOLO_CONFIG, interval=10, limit=1001, log_prefix='out/solo/qbot')\n",
    "astro.rl.train(astro.core.SOLO_EASY_CONFIG, interval=10, limit=1001, out='out/easy/qbot2')"
   ]
  }
 ],
 "metadata": {
  "kernelspec": {
   "display_name": "Python 3",
   "language": "python",
   "name": "python3"
  },
  "language_info": {
   "codemirror_mode": {
    "name": "ipython",
    "version": 3
   },
   "file_extension": ".py",
   "mimetype": "text/x-python",
   "name": "python",
   "nbconvert_exporter": "python",
   "pygments_lexer": "ipython3",
   "version": "3.6.2"
  }
 },
 "nbformat": 4,
 "nbformat_minor": 2
}
